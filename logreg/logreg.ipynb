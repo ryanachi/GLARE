{
 "cells": [
  {
   "cell_type": "code",
   "execution_count": 87,
   "id": "365876a9",
   "metadata": {},
   "outputs": [],
   "source": [
    "import nltk\n",
    "import numpy as np\n",
    "import pandas as pd\n",
    "from sklearn import metrics\n",
    "from sklearn.metrics import confusion_matrix\n",
    "from sklearn.metrics import precision_recall_fscore_support as score\n",
    "from sklearn.linear_model import LinearRegression, LogisticRegression\n",
    "from sklearn.metrics import plot_confusion_matrix, precision_recall_fscore_support, classification_report\n",
    "from sklearn.model_selection import train_test_split\n",
    "import torch\n",
    "from torchtext.vocab import GloVe\n",
    "import tqdm\n",
    "import torch.nn as nn\n",
    "import torch.nn.functional as F"
   ]
  },
  {
   "cell_type": "code",
   "execution_count": 88,
   "id": "a910f4bf",
   "metadata": {},
   "outputs": [],
   "source": [
    "def regression_report(y_true, y_pred, estimator=\"\"):\n",
    "    \"\"\"\n",
    "        Helper function for error outputs.\n",
    "        \n",
    "        Parameters\n",
    "        ----------\n",
    "        y_true : numpy.1darray\n",
    "            true labels for test data\n",
    "        \n",
    "        y_pred : numpy.1darray\n",
    "            predicted labels for test data\n",
    "        \n",
    "        estimator : str\n",
    "            name of estimator (for output purposes)\n",
    "        \n",
    "        Returns\n",
    "        -------\n",
    "        None\n",
    "    \"\"\"\n",
    "    print(f\"F1:  {metrics.f1_score(y_true, y_pred)}\")\n",
    "    print(f\"F1 Macro:  {metrics.f1_score(y_true, y_pred, average='macro')}\")\n",
    "\n",
    "    print(f\"Accuracy:  {metrics.accuracy_score(y_true, y_pred)}\")"
   ]
  },
  {
   "cell_type": "code",
   "execution_count": 89,
   "id": "83584072",
   "metadata": {},
   "outputs": [],
   "source": [
    "glove = GloVe(cache='.', name='6B')"
   ]
  },
  {
   "cell_type": "code",
   "execution_count": 90,
   "id": "d6277897",
   "metadata": {},
   "outputs": [],
   "source": [
    "df = pd.DataFrame()"
   ]
  },
  {
   "cell_type": "code",
   "execution_count": 91,
   "id": "fe17d32c",
   "metadata": {},
   "outputs": [],
   "source": [
    "GLOVE_DIM = 300\n",
    "ZERO_EMBED = torch.zeros(GLOVE_DIM) # GloVe dimensionality\n",
    "NUM_EXAMPLES = 1000"
   ]
  },
  {
   "cell_type": "code",
   "execution_count": 92,
   "id": "afd62af8",
   "metadata": {},
   "outputs": [
    {
     "name": "stderr",
     "output_type": "stream",
     "text": [
      "100%|██████████| 1000/1000 [05:46<00:00,  2.89it/s]\n"
     ]
    }
   ],
   "source": [
    "FILENAME = \"yelp_old_slim.txt\"\n",
    "\n",
    "status_list = []\n",
    "df = pd.DataFrame()\n",
    "\n",
    "with open(FILENAME, 'r') as f:\n",
    "    \n",
    "    index = f.readline().strip()\n",
    "\n",
    "    with tqdm.tqdm(total=NUM_EXAMPLES) as pbar:\n",
    "        while index.isnumeric():\n",
    "            status = f.readline().strip()\n",
    "            original = f.readline().strip()\n",
    "            perturbed = f.readline().strip()\n",
    "            \n",
    "#             print(f\"Currently on: index {index}\")\n",
    "\n",
    "            changed_idxs = []\n",
    "\n",
    "            if 'FAILED' not in status and 'SKIPPED' not in status:\n",
    "                orig_tokens = [token.lower() for token in nltk.word_tokenize(original)]\n",
    "                pert_tokens = [token.lower() for token in nltk.word_tokenize(perturbed)]\n",
    "\n",
    "                min_len = min(len(orig_tokens), len(pert_tokens))    \n",
    "\n",
    "                changed_idxs = [i for i in range(min_len) if orig_tokens[i] != pert_tokens[i]]\n",
    "                \n",
    "                if len(changed_idxs) <= 10:\n",
    "\n",
    "                    v1 = ZERO_EMBED\n",
    "                    v2 = glove[orig_tokens[0]]\n",
    "                    v3 = glove[orig_tokens[1]]\n",
    "                    v5 = glove[pert_tokens[0]]\n",
    "                    example_0 = pd.Series([v1, v2, v3, torch.cat([v1, v2, v3], axis=-1), 0 in changed_idxs, v5])\n",
    "                    df = df.append(example_0, ignore_index=True)\n",
    "\n",
    "                    for i in range(1, min_len-1):\n",
    "\n",
    "                        # (embed left, embed curr, embed right, is_modified)\n",
    "                        v1 = glove[orig_tokens[i-1]]\n",
    "                        v2 = glove[orig_tokens[i]]\n",
    "                        v3 = glove[orig_tokens[i+1]]\n",
    "                        v5 = glove[pert_tokens[i]]\n",
    "\n",
    "                        word_data = pd.Series([v1, v2, v3, torch.cat([v1, v2, v3], axis=-1), i in changed_idxs, v5])\n",
    "                        df = df.append(word_data, ignore_index=True)\n",
    "\n",
    "                    v1 = glove[orig_tokens[min_len-2]]\n",
    "                    v2 = glove[orig_tokens[min_len-1]]\n",
    "                    v3 = ZERO_EMBED\n",
    "                    v5 = glove[orig_tokens[min_len-1]]\n",
    "                    example_end = pd.Series([v1, v2, v3, torch.cat([v1, v2, v3], axis=-1), min_len-1 in changed_idxs, v5])\n",
    "                    df = df.append(example_end, ignore_index=True)\n",
    "\n",
    "            \n",
    "            status_list.append(changed_idxs)\n",
    "            f.readline()\n",
    "            index = f.readline().strip()\n",
    "            \n",
    "            pbar.update(1)"
   ]
  },
  {
   "cell_type": "code",
   "execution_count": 93,
   "id": "a4f871f9",
   "metadata": {},
   "outputs": [
    {
     "data": {
      "text/html": [
       "<div>\n",
       "<style scoped>\n",
       "    .dataframe tbody tr th:only-of-type {\n",
       "        vertical-align: middle;\n",
       "    }\n",
       "\n",
       "    .dataframe tbody tr th {\n",
       "        vertical-align: top;\n",
       "    }\n",
       "\n",
       "    .dataframe thead th {\n",
       "        text-align: right;\n",
       "    }\n",
       "</style>\n",
       "<table border=\"1\" class=\"dataframe\">\n",
       "  <thead>\n",
       "    <tr style=\"text-align: right;\">\n",
       "      <th></th>\n",
       "      <th>0</th>\n",
       "      <th>1</th>\n",
       "      <th>2</th>\n",
       "      <th>3</th>\n",
       "      <th>4</th>\n",
       "      <th>5</th>\n",
       "    </tr>\n",
       "  </thead>\n",
       "  <tbody>\n",
       "    <tr>\n",
       "      <th>0</th>\n",
       "      <td>[tensor(0.), tensor(0.), tensor(0.), tensor(0....</td>\n",
       "      <td>[tensor(0.6684), tensor(-0.1482), tensor(0.003...</td>\n",
       "      <td>[tensor(0.1009), tensor(-0.0449), tensor(-0.36...</td>\n",
       "      <td>[tensor(0.), tensor(0.), tensor(0.), tensor(0....</td>\n",
       "      <td>0.0</td>\n",
       "      <td>[tensor(0.6684), tensor(-0.1482), tensor(0.003...</td>\n",
       "    </tr>\n",
       "    <tr>\n",
       "      <th>1</th>\n",
       "      <td>[tensor(0.6684), tensor(-0.1482), tensor(0.003...</td>\n",
       "      <td>[tensor(0.1009), tensor(-0.0449), tensor(-0.36...</td>\n",
       "      <td>[tensor(-0.6805), tensor(-0.1708), tensor(0.04...</td>\n",
       "      <td>[tensor(0.6684), tensor(-0.1482), tensor(0.003...</td>\n",
       "      <td>1.0</td>\n",
       "      <td>[tensor(-0.1902), tensor(0.1181), tensor(0.287...</td>\n",
       "    </tr>\n",
       "    <tr>\n",
       "      <th>2</th>\n",
       "      <td>[tensor(0.1009), tensor(-0.0449), tensor(-0.36...</td>\n",
       "      <td>[tensor(-0.6805), tensor(-0.1708), tensor(0.04...</td>\n",
       "      <td>[tensor(-0.2554), tensor(-0.2572), tensor(0.13...</td>\n",
       "      <td>[tensor(0.1009), tensor(-0.0449), tensor(-0.36...</td>\n",
       "      <td>0.0</td>\n",
       "      <td>[tensor(-0.6805), tensor(-0.1708), tensor(0.04...</td>\n",
       "    </tr>\n",
       "    <tr>\n",
       "      <th>3</th>\n",
       "      <td>[tensor(-0.6805), tensor(-0.1708), tensor(0.04...</td>\n",
       "      <td>[tensor(-0.2554), tensor(-0.2572), tensor(0.13...</td>\n",
       "      <td>[tensor(-0.1947), tensor(0.1884), tensor(0.117...</td>\n",
       "      <td>[tensor(-0.6805), tensor(-0.1708), tensor(0.04...</td>\n",
       "      <td>0.0</td>\n",
       "      <td>[tensor(-0.2554), tensor(-0.2572), tensor(0.13...</td>\n",
       "    </tr>\n",
       "    <tr>\n",
       "      <th>4</th>\n",
       "      <td>[tensor(-0.2554), tensor(-0.2572), tensor(0.13...</td>\n",
       "      <td>[tensor(-0.1947), tensor(0.1884), tensor(0.117...</td>\n",
       "      <td>[tensor(-0.4762), tensor(0.0695), tensor(-0.01...</td>\n",
       "      <td>[tensor(-0.2554), tensor(-0.2572), tensor(0.13...</td>\n",
       "      <td>0.0</td>\n",
       "      <td>[tensor(-0.1947), tensor(0.1884), tensor(0.117...</td>\n",
       "    </tr>\n",
       "    <tr>\n",
       "      <th>...</th>\n",
       "      <td>...</td>\n",
       "      <td>...</td>\n",
       "      <td>...</td>\n",
       "      <td>...</td>\n",
       "      <td>...</td>\n",
       "      <td>...</td>\n",
       "    </tr>\n",
       "    <tr>\n",
       "      <th>40124</th>\n",
       "      <td>[tensor(-0.3303), tensor(0.4575), tensor(-0.29...</td>\n",
       "      <td>[tensor(-0.6594), tensor(0.2651), tensor(0.166...</td>\n",
       "      <td>[tensor(-0.0067), tensor(0.0233), tensor(0.056...</td>\n",
       "      <td>[tensor(-0.3303), tensor(0.4575), tensor(-0.29...</td>\n",
       "      <td>0.0</td>\n",
       "      <td>[tensor(-0.6594), tensor(0.2651), tensor(0.166...</td>\n",
       "    </tr>\n",
       "    <tr>\n",
       "      <th>40125</th>\n",
       "      <td>[tensor(-0.6594), tensor(0.2651), tensor(0.166...</td>\n",
       "      <td>[tensor(-0.0067), tensor(0.0233), tensor(0.056...</td>\n",
       "      <td>[tensor(0.), tensor(0.), tensor(0.), tensor(0....</td>\n",
       "      <td>[tensor(-0.6594), tensor(0.2651), tensor(0.166...</td>\n",
       "      <td>0.0</td>\n",
       "      <td>[tensor(-0.0067), tensor(0.0233), tensor(0.056...</td>\n",
       "    </tr>\n",
       "    <tr>\n",
       "      <th>40126</th>\n",
       "      <td>[tensor(-0.0067), tensor(0.0233), tensor(0.056...</td>\n",
       "      <td>[tensor(0.), tensor(0.), tensor(0.), tensor(0....</td>\n",
       "      <td>[tensor(0.0727), tensor(0.1596), tensor(0.0654...</td>\n",
       "      <td>[tensor(-0.0067), tensor(0.0233), tensor(0.056...</td>\n",
       "      <td>1.0</td>\n",
       "      <td>[tensor(0.), tensor(0.), tensor(0.), tensor(0....</td>\n",
       "    </tr>\n",
       "    <tr>\n",
       "      <th>40127</th>\n",
       "      <td>[tensor(0.), tensor(0.), tensor(0.), tensor(0....</td>\n",
       "      <td>[tensor(0.0727), tensor(0.1596), tensor(0.0654...</td>\n",
       "      <td>[tensor(-0.1256), tensor(0.0136), tensor(0.103...</td>\n",
       "      <td>[tensor(0.), tensor(0.), tensor(0.), tensor(0....</td>\n",
       "      <td>0.0</td>\n",
       "      <td>[tensor(0.0727), tensor(0.1596), tensor(0.0654...</td>\n",
       "    </tr>\n",
       "    <tr>\n",
       "      <th>40128</th>\n",
       "      <td>[tensor(0.0727), tensor(0.1596), tensor(0.0654...</td>\n",
       "      <td>[tensor(-0.1256), tensor(0.0136), tensor(0.103...</td>\n",
       "      <td>[tensor(0.), tensor(0.), tensor(0.), tensor(0....</td>\n",
       "      <td>[tensor(0.0727), tensor(0.1596), tensor(0.0654...</td>\n",
       "      <td>0.0</td>\n",
       "      <td>[tensor(-0.1256), tensor(0.0136), tensor(0.103...</td>\n",
       "    </tr>\n",
       "  </tbody>\n",
       "</table>\n",
       "<p>40129 rows × 6 columns</p>\n",
       "</div>"
      ],
      "text/plain": [
       "                                                       0  \\\n",
       "0      [tensor(0.), tensor(0.), tensor(0.), tensor(0....   \n",
       "1      [tensor(0.6684), tensor(-0.1482), tensor(0.003...   \n",
       "2      [tensor(0.1009), tensor(-0.0449), tensor(-0.36...   \n",
       "3      [tensor(-0.6805), tensor(-0.1708), tensor(0.04...   \n",
       "4      [tensor(-0.2554), tensor(-0.2572), tensor(0.13...   \n",
       "...                                                  ...   \n",
       "40124  [tensor(-0.3303), tensor(0.4575), tensor(-0.29...   \n",
       "40125  [tensor(-0.6594), tensor(0.2651), tensor(0.166...   \n",
       "40126  [tensor(-0.0067), tensor(0.0233), tensor(0.056...   \n",
       "40127  [tensor(0.), tensor(0.), tensor(0.), tensor(0....   \n",
       "40128  [tensor(0.0727), tensor(0.1596), tensor(0.0654...   \n",
       "\n",
       "                                                       1  \\\n",
       "0      [tensor(0.6684), tensor(-0.1482), tensor(0.003...   \n",
       "1      [tensor(0.1009), tensor(-0.0449), tensor(-0.36...   \n",
       "2      [tensor(-0.6805), tensor(-0.1708), tensor(0.04...   \n",
       "3      [tensor(-0.2554), tensor(-0.2572), tensor(0.13...   \n",
       "4      [tensor(-0.1947), tensor(0.1884), tensor(0.117...   \n",
       "...                                                  ...   \n",
       "40124  [tensor(-0.6594), tensor(0.2651), tensor(0.166...   \n",
       "40125  [tensor(-0.0067), tensor(0.0233), tensor(0.056...   \n",
       "40126  [tensor(0.), tensor(0.), tensor(0.), tensor(0....   \n",
       "40127  [tensor(0.0727), tensor(0.1596), tensor(0.0654...   \n",
       "40128  [tensor(-0.1256), tensor(0.0136), tensor(0.103...   \n",
       "\n",
       "                                                       2  \\\n",
       "0      [tensor(0.1009), tensor(-0.0449), tensor(-0.36...   \n",
       "1      [tensor(-0.6805), tensor(-0.1708), tensor(0.04...   \n",
       "2      [tensor(-0.2554), tensor(-0.2572), tensor(0.13...   \n",
       "3      [tensor(-0.1947), tensor(0.1884), tensor(0.117...   \n",
       "4      [tensor(-0.4762), tensor(0.0695), tensor(-0.01...   \n",
       "...                                                  ...   \n",
       "40124  [tensor(-0.0067), tensor(0.0233), tensor(0.056...   \n",
       "40125  [tensor(0.), tensor(0.), tensor(0.), tensor(0....   \n",
       "40126  [tensor(0.0727), tensor(0.1596), tensor(0.0654...   \n",
       "40127  [tensor(-0.1256), tensor(0.0136), tensor(0.103...   \n",
       "40128  [tensor(0.), tensor(0.), tensor(0.), tensor(0....   \n",
       "\n",
       "                                                       3    4  \\\n",
       "0      [tensor(0.), tensor(0.), tensor(0.), tensor(0....  0.0   \n",
       "1      [tensor(0.6684), tensor(-0.1482), tensor(0.003...  1.0   \n",
       "2      [tensor(0.1009), tensor(-0.0449), tensor(-0.36...  0.0   \n",
       "3      [tensor(-0.6805), tensor(-0.1708), tensor(0.04...  0.0   \n",
       "4      [tensor(-0.2554), tensor(-0.2572), tensor(0.13...  0.0   \n",
       "...                                                  ...  ...   \n",
       "40124  [tensor(-0.3303), tensor(0.4575), tensor(-0.29...  0.0   \n",
       "40125  [tensor(-0.6594), tensor(0.2651), tensor(0.166...  0.0   \n",
       "40126  [tensor(-0.0067), tensor(0.0233), tensor(0.056...  1.0   \n",
       "40127  [tensor(0.), tensor(0.), tensor(0.), tensor(0....  0.0   \n",
       "40128  [tensor(0.0727), tensor(0.1596), tensor(0.0654...  0.0   \n",
       "\n",
       "                                                       5  \n",
       "0      [tensor(0.6684), tensor(-0.1482), tensor(0.003...  \n",
       "1      [tensor(-0.1902), tensor(0.1181), tensor(0.287...  \n",
       "2      [tensor(-0.6805), tensor(-0.1708), tensor(0.04...  \n",
       "3      [tensor(-0.2554), tensor(-0.2572), tensor(0.13...  \n",
       "4      [tensor(-0.1947), tensor(0.1884), tensor(0.117...  \n",
       "...                                                  ...  \n",
       "40124  [tensor(-0.6594), tensor(0.2651), tensor(0.166...  \n",
       "40125  [tensor(-0.0067), tensor(0.0233), tensor(0.056...  \n",
       "40126  [tensor(0.), tensor(0.), tensor(0.), tensor(0....  \n",
       "40127  [tensor(0.0727), tensor(0.1596), tensor(0.0654...  \n",
       "40128  [tensor(-0.1256), tensor(0.0136), tensor(0.103...  \n",
       "\n",
       "[40129 rows x 6 columns]"
      ]
     },
     "execution_count": 93,
     "metadata": {},
     "output_type": "execute_result"
    }
   ],
   "source": [
    "df"
   ]
  },
  {
   "cell_type": "code",
   "execution_count": 94,
   "id": "cc8c2022",
   "metadata": {},
   "outputs": [],
   "source": [
    "train_X_df, val_X_df, train_y_w_replaced, val_y_w_replaced = train_test_split(df.iloc[:, 3], df.iloc[:, [4, 5]], test_size=0.2, random_state=200)"
   ]
  },
  {
   "cell_type": "code",
   "execution_count": 95,
   "id": "fc387fbe",
   "metadata": {},
   "outputs": [],
   "source": [
    "train_X = np.stack(train_X_df)\n",
    "val_X = np.stack(val_X_df)"
   ]
  },
  {
   "cell_type": "code",
   "execution_count": 96,
   "id": "1f585c23",
   "metadata": {},
   "outputs": [],
   "source": [
    "train_y = np.stack(train_y_w_replaced.iloc[:, 0])\n",
    "val_y = np.stack(val_y_w_replaced.iloc[:, 0])"
   ]
  },
  {
   "cell_type": "code",
   "execution_count": 97,
   "id": "a13282f2",
   "metadata": {},
   "outputs": [
    {
     "data": {
      "text/plain": [
       "LogisticRegression(class_weight='balanced', max_iter=1000)"
      ]
     },
     "execution_count": 97,
     "metadata": {},
     "output_type": "execute_result"
    }
   ],
   "source": [
    "lr = LogisticRegression(penalty='l2', class_weight='balanced', max_iter=1000)\n",
    "lr.fit(train_X, train_y)"
   ]
  },
  {
   "cell_type": "code",
   "execution_count": 98,
   "id": "d0da4e36",
   "metadata": {},
   "outputs": [
    {
     "name": "stdout",
     "output_type": "stream",
     "text": [
      "F1:  0.30410480349344976\n",
      "F1 Macro:  0.5765349250616085\n",
      "Accuracy:  0.7517988972993178\n",
      "None\n"
     ]
    }
   ],
   "source": [
    "train_y_pred = lr.predict(train_X)\n",
    "print(regression_report(train_y, train_y_pred))"
   ]
  },
  {
   "cell_type": "code",
   "execution_count": 99,
   "id": "079308ed",
   "metadata": {},
   "outputs": [
    {
     "name": "stdout",
     "output_type": "stream",
     "text": [
      "F1:  0.23697011813759555\n",
      "F1 Macro:  0.535139074553844\n",
      "Accuracy:  0.7263892349862946\n",
      "None\n"
     ]
    }
   ],
   "source": [
    "val_y_pred = lr.predict(val_X)\n",
    "print(regression_report(val_y, val_y_pred))"
   ]
  },
  {
   "cell_type": "code",
   "execution_count": 100,
   "id": "c08ddc9d",
   "metadata": {},
   "outputs": [
    {
     "data": {
      "text/plain": [
       "2381"
      ]
     },
     "execution_count": 100,
     "metadata": {},
     "output_type": "execute_result"
    }
   ],
   "source": [
    "np.count_nonzero(val_y_pred)"
   ]
  },
  {
   "cell_type": "code",
   "execution_count": 101,
   "id": "75d24294",
   "metadata": {},
   "outputs": [
    {
     "data": {
      "text/plain": [
       "497"
      ]
     },
     "execution_count": 101,
     "metadata": {},
     "output_type": "execute_result"
    }
   ],
   "source": [
    "np.count_nonzero(val_y)"
   ]
  },
  {
   "cell_type": "code",
   "execution_count": 102,
   "id": "7d8acd02",
   "metadata": {},
   "outputs": [
    {
     "data": {
      "text/plain": [
       "9382"
      ]
     },
     "execution_count": 102,
     "metadata": {},
     "output_type": "execute_result"
    }
   ],
   "source": [
    "np.count_nonzero(train_y_pred)"
   ]
  },
  {
   "cell_type": "code",
   "execution_count": 103,
   "id": "2262ede2",
   "metadata": {},
   "outputs": [
    {
     "data": {
      "text/plain": [
       "2068"
      ]
     },
     "execution_count": 103,
     "metadata": {},
     "output_type": "execute_result"
    }
   ],
   "source": [
    "np.count_nonzero(train_y)"
   ]
  },
  {
   "cell_type": "code",
   "execution_count": 104,
   "id": "b4943840",
   "metadata": {},
   "outputs": [
    {
     "data": {
      "text/plain": [
       "8026"
      ]
     },
     "execution_count": 104,
     "metadata": {},
     "output_type": "execute_result"
    }
   ],
   "source": [
    "len(val_y)"
   ]
  },
  {
   "cell_type": "code",
   "execution_count": 105,
   "id": "f80d9692",
   "metadata": {},
   "outputs": [
    {
     "data": {
      "text/plain": [
       "32103"
      ]
     },
     "execution_count": 105,
     "metadata": {},
     "output_type": "execute_result"
    }
   ],
   "source": [
    "len(train_y)"
   ]
  },
  {
   "cell_type": "code",
   "execution_count": 80,
   "id": "9473a4b2",
   "metadata": {},
   "outputs": [],
   "source": [
    "torch.save(lr, \"lr_prediction_model\")"
   ]
  },
  {
   "cell_type": "markdown",
   "id": "96ee5bab",
   "metadata": {},
   "source": [
    "# Generation"
   ]
  },
  {
   "cell_type": "code",
   "execution_count": 56,
   "id": "987339ad",
   "metadata": {},
   "outputs": [],
   "source": [
    "#lr = torch.load(\"lr_model\")"
   ]
  },
  {
   "cell_type": "code",
   "execution_count": 106,
   "id": "89f03c2f",
   "metadata": {},
   "outputs": [],
   "source": [
    "from torch import cuda\n",
    "device = 'cuda' if cuda.is_available() else 'cpu'"
   ]
  },
  {
   "cell_type": "code",
   "execution_count": 147,
   "id": "dc5df8fd",
   "metadata": {},
   "outputs": [
    {
     "data": {
      "text/plain": [
       "LogRegGeneration(\n",
       "  (linear1): Linear(in_features=900, out_features=300, bias=True)\n",
       ")"
      ]
     },
     "execution_count": 147,
     "metadata": {},
     "output_type": "execute_result"
    }
   ],
   "source": [
    "class LogRegGeneration(nn.Module):\n",
    "    def __init__(self):\n",
    "        super(LogRegGeneration, self).__init__()\n",
    "        self.linear1 = nn.Linear(GLOVE_DIM * 3, GLOVE_DIM) # 3 concatenated tokens\n",
    "    \n",
    "    def forward(self, x):\n",
    "        return self.linear1(x)\n",
    "    \n",
    "weight_seed = 200\n",
    "torch.manual_seed(weight_seed)\n",
    "model = LogRegGeneration()\n",
    "model.to(device)"
   ]
  },
  {
   "cell_type": "code",
   "execution_count": 108,
   "id": "1803625e",
   "metadata": {},
   "outputs": [],
   "source": [
    "import torch.optim as optim\n",
    "criterion = nn.MSELoss()\n",
    "optimizer = optim.SGD(model.parameters(), lr=1e-4)"
   ]
  },
  {
   "cell_type": "code",
   "execution_count": 155,
   "id": "84ad4467",
   "metadata": {},
   "outputs": [],
   "source": [
    "df_perturbed = df[df[4] == 1]"
   ]
  },
  {
   "cell_type": "code",
   "execution_count": 157,
   "id": "fa0b43c8",
   "metadata": {},
   "outputs": [],
   "source": [
    "df_X = df_perturbed.iloc[:, 3]"
   ]
  },
  {
   "cell_type": "code",
   "execution_count": 158,
   "id": "4d28bea6",
   "metadata": {},
   "outputs": [],
   "source": [
    "df_y = df_perturbed.iloc[:, 5]"
   ]
  },
  {
   "cell_type": "code",
   "execution_count": 161,
   "id": "16fae7ad",
   "metadata": {},
   "outputs": [],
   "source": [
    "X_train, X_val, y_train, y_val = train_test_split(torch.Tensor(np.stack(df_X)), torch.Tensor(np.stack(df_y)), test_size=0.2, random_state=200)"
   ]
  },
  {
   "cell_type": "code",
   "execution_count": 162,
   "id": "147d75c1",
   "metadata": {},
   "outputs": [
    {
     "data": {
      "text/plain": [
       "torch.Size([2052, 900])"
      ]
     },
     "execution_count": 162,
     "metadata": {},
     "output_type": "execute_result"
    }
   ],
   "source": [
    "X_train.shape"
   ]
  },
  {
   "cell_type": "code",
   "execution_count": 163,
   "id": "9a9ae06e",
   "metadata": {},
   "outputs": [],
   "source": [
    "train_dataset = torch.utils.data.TensorDataset(X_train, y_train)"
   ]
  },
  {
   "cell_type": "code",
   "execution_count": 164,
   "id": "c2f7ac63",
   "metadata": {},
   "outputs": [],
   "source": [
    "val_dataset = torch.utils.data.TensorDataset(X_val, y_val)"
   ]
  },
  {
   "cell_type": "code",
   "execution_count": 168,
   "id": "f0dadf87",
   "metadata": {},
   "outputs": [],
   "source": [
    "train_loader = torch.utils.data.DataLoader(train_dataset, batch_size=20, shuffle=True)"
   ]
  },
  {
   "cell_type": "code",
   "execution_count": 169,
   "id": "dc197a21",
   "metadata": {},
   "outputs": [],
   "source": [
    "val_loader = torch.utils.data.DataLoader(val_dataset, batch_size=20, shuffle=True)"
   ]
  },
  {
   "cell_type": "code",
   "execution_count": 170,
   "id": "bf3b53bc",
   "metadata": {},
   "outputs": [
    {
     "name": "stdout",
     "output_type": "stream",
     "text": [
      "Finished Training\n"
     ]
    }
   ],
   "source": [
    "for epoch in range(10):  # loop over the dataset multiple times\n",
    "\n",
    "    running_loss = 0.0\n",
    "    for i, (X, y) in enumerate(train_loader, 0):\n",
    "        # get the inputs; data is a list of [inputs, labels]\n",
    "        X = X.to(device)\n",
    "        y = y.to(device)\n",
    "        \n",
    "        # zero the parameter gradients\n",
    "        optimizer.zero_grad()\n",
    "\n",
    "        # forward + backward + optimize\n",
    "        outputs = model(X)\n",
    "        loss = criterion(outputs, y)\n",
    "        loss.backward()\n",
    "        optimizer.step()\n",
    "\n",
    "        # print statistics\n",
    "        running_loss += loss.item()\n",
    "        if i % 200 == 199:    # print every 200 mini-batches\n",
    "            print('[%d, %5d] loss: %.3f' %\n",
    "                  (epoch + 1, i + 1, running_loss / 200))\n",
    "            running_loss = 0.0\n",
    "\n",
    "print('Finished Training')"
   ]
  },
  {
   "cell_type": "code",
   "execution_count": 174,
   "id": "fd3aa796",
   "metadata": {},
   "outputs": [],
   "source": [
    "glove_lengths = torch.sqrt((glove.vectors ** 2).sum(dim=1))\n",
    "\n",
    "def closest_cosine(vec):\n",
    "    numerator = (glove.vectors * vec).sum(dim=1)\n",
    "    denominator = glove_lengths * torch.sqrt((vec ** 2).sum())\n",
    "    similarities = numerator / denominator\n",
    "    return glove.itos[similarities.argmax()]"
   ]
  },
  {
   "cell_type": "markdown",
   "id": "70856763",
   "metadata": {},
   "source": [
    "# Tests"
   ]
  },
  {
   "cell_type": "code",
   "execution_count": 189,
   "id": "3bbf7a25",
   "metadata": {},
   "outputs": [
    {
     "data": {
      "text/plain": [
       "'awesome'"
      ]
     },
     "execution_count": 189,
     "metadata": {},
     "output_type": "execute_result"
    }
   ],
   "source": [
    "closest_cosine(df_perturbed.iloc[5, 5])"
   ]
  },
  {
   "cell_type": "code",
   "execution_count": 188,
   "id": "4a3e7f91",
   "metadata": {},
   "outputs": [
    {
     "data": {
      "text/plain": [
       "'brutality'"
      ]
     },
     "execution_count": 188,
     "metadata": {},
     "output_type": "execute_result"
    }
   ],
   "source": [
    "test = df_perturbed.iloc[4, 3].to(device)\n",
    "ans = model(test).to('cpu')\n",
    "closest_cosine(ans)"
   ]
  },
  {
   "cell_type": "markdown",
   "id": "7d9a3881",
   "metadata": {},
   "source": [
    "# How to Generate"
   ]
  },
  {
   "cell_type": "code",
   "execution_count": 193,
   "id": "a791579d",
   "metadata": {},
   "outputs": [],
   "source": [
    "def generate(left_word, curr_word, right_word):\n",
    "    orig_vector = torch.cat((glove[left_word], glove[curr_word], glove[right_word])).to(device)\n",
    "    new_vector = model(orig_vector).to('cpu')\n",
    "    return closest_cosine(new_vector)"
   ]
  },
  {
   "cell_type": "code",
   "execution_count": 194,
   "id": "2cf7c13d",
   "metadata": {},
   "outputs": [
    {
     "name": "stdout",
     "output_type": "stream",
     "text": [
      "acted\n"
     ]
    }
   ],
   "source": [
    "print(generate(\"I\", \"saw\", \"him\"))"
   ]
  },
  {
   "cell_type": "code",
   "execution_count": 197,
   "id": "ad5762d2",
   "metadata": {},
   "outputs": [
    {
     "name": "stdout",
     "output_type": "stream",
     "text": [
      "wibulswasdi\n"
     ]
    }
   ],
   "source": [
    "print(generate(\"I\", \"ate\", \"dinner\"))"
   ]
  },
  {
   "cell_type": "code",
   "execution_count": null,
   "id": "cb51e7f1",
   "metadata": {},
   "outputs": [],
   "source": [
    "torch.save(model.state_dict(), \"lr_generation_model\")"
   ]
  }
 ],
 "metadata": {
  "kernelspec": {
   "display_name": "lr",
   "language": "python",
   "name": "lr"
  },
  "language_info": {
   "codemirror_mode": {
    "name": "ipython",
    "version": 3
   },
   "file_extension": ".py",
   "mimetype": "text/x-python",
   "name": "python",
   "nbconvert_exporter": "python",
   "pygments_lexer": "ipython3",
   "version": "3.7.10"
  }
 },
 "nbformat": 4,
 "nbformat_minor": 5
}
